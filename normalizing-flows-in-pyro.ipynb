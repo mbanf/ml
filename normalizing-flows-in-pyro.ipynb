{
 "cells": [
  {
   "cell_type": "markdown",
   "metadata": {},
   "source": [
    "load dependencies"
   ]
  },
  {
   "cell_type": "code",
   "execution_count": 3,
   "metadata": {},
   "outputs": [],
   "source": [
    "import torch\n",
    "import pyro \n",
    "import pyro.distributions as dist\n",
    "import pyro.distributions.transforms as T\n",
    "import matplotlib.pyplot as plt\n",
    "import seaborn as sns\n",
    "import os\n",
    "\n",
    "smoke_test = ('CI' in os.environ)\n",
    "\n"
   ]
  },
  {
   "cell_type": "code",
   "execution_count": null,
   "metadata": {},
   "outputs": [],
   "source": [
    "dist_x = dist.Normal(torch.zeros(1), torch.ones(1))\n",
    "exp_transform = T.ExpTransform()\n"
   ]
  }
 ],
 "metadata": {
  "interpreter": {
   "hash": "a0d101bfa87570ba227cbb9a30ea3452ee5d2fbcc11cf92ccd0bcc83ac5bd7a3"
  },
  "kernelspec": {
   "display_name": "Python 3.7.5 ('.venv': venv)",
   "language": "python",
   "name": "python3"
  },
  "language_info": {
   "codemirror_mode": {
    "name": "ipython",
    "version": 3
   },
   "file_extension": ".py",
   "mimetype": "text/x-python",
   "name": "python",
   "nbconvert_exporter": "python",
   "pygments_lexer": "ipython3",
   "version": "3.7.5"
  },
  "orig_nbformat": 4
 },
 "nbformat": 4,
 "nbformat_minor": 2
}
